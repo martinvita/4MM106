{
  "nbformat": 4,
  "nbformat_minor": 0,
  "metadata": {
    "colab": {
      "provenance": [],
      "authorship_tag": "ABX9TyOGlldIEsTcsErKHJidFxcb"
    },
    "kernelspec": {
      "name": "python3",
      "display_name": "Python 3"
    },
    "language_info": {
      "name": "python"
    }
  },
  "cells": [
    {
      "cell_type": "markdown",
      "source": [
        "# Determinanty\n",
        "Úvodní seznámení s determinanty dle publikace [*Klůfa, Pasáčková: Učebnice matematiky 1 – pro studenty VŠE*](https://www.ekopress.cz/eshop/view/titdetail.php?tid=31935). \"Definiční\" partie textu jsou převzaty, příklady či ukázky jsou připraveny nově pro tento text a následně je vše ukázáno jako paralela v Pythonu s využitím knihovny *NumPy.*\n",
        "\n",
        "## Základní definice a jejich ilustrace\n",
        "Determinant je reálné číslo, které je jednoznačně přiřazeno každé čtvercové matici (pokud matice není čtvercová, její determinant definován není). Determinant čtvercové matice $\\mathbf{A}$ řádu $n$ budeme značit $\\mathrm{det}~\\mathbf{A}$ nebo zapisovat ve tvaru\n",
        "$$\n",
        "\\begin{vmatrix}\n",
        "a_{11} & a_{12} & \\dots & a_{1n}\\\\\n",
        "a_{21} & a_{22} & \\dots & a_{2n}\\\\\n",
        "\\vdots & \\vdots & \\ddots & \\vdots\\\\\n",
        "a_{m1} & a_{m2} & \\dots & a_{mn}\n",
        "\\end{vmatrix}\n",
        "$$\n",
        "\n",
        "Tento symbol bude nutné odlišovat od zápisu\n",
        "$$\n",
        "\\begin{pmatrix}\n",
        "a_{11} & a_{12} & \\dots & a_{1n}\\\\\n",
        "a_{21} & a_{22} & \\dots & a_{2n}\\\\\n",
        "\\vdots & \\vdots & \\ddots & \\vdots\\\\\n",
        "a_{m1} & a_{m2} & \\dots & a_{mn}\n",
        "\\end{pmatrix},\n",
        "$$\n",
        "kterým označujeme matici $\\mathbf{A}$. Jinak u determinantů budeme používat tutéž terminologii jako u matic. Například v determinantu budeme hovořit o řádcích a sloupcích determinantu, hlavní a vedlejší diagonále u determinantu, prvcích determinantu apod. Shora uvedený determinant je podle této úmluvy determinant řádu $n$ (stejně jako čtvercová matice).\n",
        "\n",
        "*Pozn. autora tohoto Jupyter notebooku.* Kdybychom chtěli být důslední, museli bychom správně říkat nikoliv \"řádek determinantu\", ale \"řádek matice, jejíž determinant počítáme\", neboť determinant je, jak bylo výše zmíněno, reálné číslo (nikoliv objekt, který by měl nějaké řádky nebo sloupce). Tento rigoróznější přístup by ale byl mnohem delší, a nebyl by tak názorný. Proto se budeme držet názvosloví uvedené učebnice.\n",
        "\n",
        "**Definice.** **Determinant prvního řádu** je definován vztahem\n",
        "$$\n",
        "\\begin{vmatrix}\n",
        "a_{11}\n",
        "\\end{vmatrix}=a_{11}.\n",
        "$$\n",
        "\n",
        "**Definice.** **Determinant druhého řádu** je definován vztahem\n",
        "$$\n",
        "\\begin{vmatrix}\n",
        "a_{11} & a_{12}\\\\\n",
        "a_{21} & a_{22}\n",
        "\\end{vmatrix}=a_{11}a_{22} - a_{12}a_{21}.\n",
        "$$\n",
        "\n",
        "*Pozn.* Z této definice je zřejmé, že *determinant druhého řádu vypočteme tak, že od součinu prvků na hlavní diagonále odečteme součin prvků na vedlejší diagonále.*\n",
        "\n",
        "**Příklad.** Vypočtěte:\n",
        "$$\n",
        "\\begin{vmatrix}\n",
        "2 & 5\\\\\n",
        "3 & 4\n",
        "\\end{vmatrix}.\n",
        "$$\n",
        "\n",
        "*Řešení.* Dle výše uvedené definice je tento determinant roven\n",
        "$$\n",
        "\\begin{vmatrix}\n",
        "2 & 5\\\\\n",
        "3 & 4\n",
        "\\end{vmatrix}=2\\cdot  4 - 5\\cdot 3 = 8 - 15 = -7.\n",
        "$$\n",
        "\n",
        "\n",
        "**Definice.** **Determinant třetího řádu** je definován vztahem\n",
        "$$\n",
        "\\begin{vmatrix}\n",
        "a_{11} & a_{12} & a_{13}\\\\\n",
        "a_{21} & a_{22} & a_{23}\\\\\n",
        "a_{31} & a_{32} & a_{33}\n",
        "\\end{vmatrix}=a_{11}a_{22}a_{33} + a_{12}a_{23}a_{31} + a_{21}a_{32}a_{13} - (a_{13}a_{22}a_{31} + a_{12}a_{21}a_{33} + a_{23}a_{32}a_{11}).\n",
        "$$\n",
        "\n",
        "*Poznámka.* Determinant třetího řádu se dá vypočítat tak, že od tří sčítanců, které získáme naznačeným způsobem jakou součiny prvků \"ve směru hlavní diagonály (viz následující příklad), odečteme další tři členy, které určíme stejným způsobem jako součiny prvků \"ve směru vedlejší diagonály\".\n",
        "\n",
        "Determinanty čtvrtého a vyšších řádů se dají vypočítat podle následující věty.\n",
        "\n",
        "**Věta** (o rozvoji determinantu). Jestliže $\\mathbf{A}$ je čtvercová matice řádu $n$, pak pro $i = 1, \\dots, n$ platí\n",
        "$$\n",
        "\\mathrm{det}~\\mathbf{A} = (-1)^{i + 1}a_{i1}M_{i1} + (-1)^{i+2}a_{i2}M_{i2} + \\dots + (-1)^{i+n}a_{in}M_{in},\n",
        "$$\n",
        "kde $M_{ij}$ je subdeterminant, který vznikne z determinantu matice $\\mathbf{A}$ po vynechání $i$-tého řádku a $j$-tého sloupce.\n",
        "\n",
        "*Poznámka.* Obecná definice determinantu čtvercové matice řádu $n$ využívá pojmu *permutace* a jejího znaménka a lze ji najít v \"běžných\" učebnicích základů lineární algebry. Pro účely naší přednášky a našich cvičení jsou ale výše uvedené definice spolu s větou o rozvoji determinantů dostačující.\n",
        "\n",
        "Podotkněme, že námi definovaný pojem je v souladu se zmíněnou obecnou definicí determinantu čtvercové matice řádu $n$. Věta o rozvoji determinantu se pak následně dokazuje z této obecné definice.\n",
        "\n",
        "Během přednášek či cvičení jistě uvidíte řadu ukázek výpočtů determinantů čtvercových matic druhého i třetího řádu.\n",
        "\n",
        "**Věta** (o determinantu transponované matice). Jsou-li $\\mathbf{A}$ a $\\mathbf{A}'$ navzájem transponované matice, pak $\\mathrm{det}~\\mathbf{A} = \\mathrm{det}~\\mathbf{A}'$.\n"
      ],
      "metadata": {
        "id": "wv5yKWKvOUCg"
      }
    },
    {
      "cell_type": "markdown",
      "source": [
        "## Základní definice v NumPy\n",
        "\n",
        "Nyní si zkusíme převést uvedené definice (a následně i větu o rozvoji determinantu) do podoby funkcí, které budou mít jako své argumenty matice. Ty budeme reprezentovat standardně jako *NumPy array*.\n",
        "\n",
        "Nejprve se podívejme na první tři definice, tj. determinanty čtvercových matic prvního až třetího řádu (první funkce bude sloužit k výpočtu determinantu matice prvního řádu, druhá druhého a třetí třetího). U každé z těchto funkcí nejprve otestujme, zda jako vstup dostávají čtvercovou matici příslušného řádu, k tomu využijeme np.shape, viz ukázky. Pokud vstupní matice není správného tvaru, pak funkce vrátí hodnotu *NaN.*\n",
        "\n",
        "Abychom mohli snadno otestovat vytvořené funkce, připravíme si nejprve čtveřici čtvercových matic (postupně od prvního do čtvrtého řádu), pojmenujeme je *matice1* až *matice4.* Na úplném začátku ale musíme importovat knihovnu *NumPy* tradičně jako *np.*"
      ],
      "metadata": {
        "id": "GPT_t74yd-LH"
      }
    },
    {
      "cell_type": "code",
      "execution_count": 1,
      "metadata": {
        "id": "J-0dzRQgvOe3"
      },
      "outputs": [],
      "source": [
        "import numpy as np"
      ]
    },
    {
      "cell_type": "code",
      "source": [
        "# Ukázková čtvercová matice prvního řádu (pozor, je to nikoliv [5], ale [[5]]!)\n",
        "matice1 = np.array([[5]])\n",
        "\n",
        "# Ukázkové čtvercové matice druhého až čtvrtého řádu\n",
        "matice2 = np.array([[2, 5], [3, 4]])\n",
        "matice3 = np.array([[1, 3, 2], [-1, 2, 4], [2, -2, 1]])\n",
        "matice4  = np.array([[1, 4, 3, 0], [2, 4, -1, 1], [2, 5, 4, 1], [2, -2, 3, 1]])"
      ],
      "metadata": {
        "id": "tMq1r3sIxSzB"
      },
      "execution_count": 2,
      "outputs": []
    },
    {
      "cell_type": "markdown",
      "source": [
        "Nyní si už vytvoříme funkci, která odpovídá první definici, tj. spočítá determinant čtvercové matice prvního řádu."
      ],
      "metadata": {
        "id": "OiTOaAqUyk-m"
      }
    },
    {
      "cell_type": "code",
      "source": [
        "def determinant11(matice):\n",
        "  \"\"\"Spočte determinant čtvercové matice prvního řádu\"\"\"\n",
        "  if matice.shape == (1, 1):\n",
        "    return(matice[0, 0])\n",
        "  else:\n",
        "    return(np.nan)"
      ],
      "metadata": {
        "id": "mV9jD2ZQw1YP"
      },
      "execution_count": 3,
      "outputs": []
    },
    {
      "cell_type": "markdown",
      "source": [
        "Princip je z kódu zřejmý, komentář (snad) není potřeba. Pojďme si nyní funkci vyzkoušet..."
      ],
      "metadata": {
        "id": "CCsiJCNqy2tB"
      }
    },
    {
      "cell_type": "code",
      "source": [
        "determinant11(matice1)"
      ],
      "metadata": {
        "colab": {
          "base_uri": "https://localhost:8080/"
        },
        "id": "x1PNmqEXxv_-",
        "outputId": "14e2591c-b3b2-4f69-ec45-527b92a2c137"
      },
      "execution_count": 4,
      "outputs": [
        {
          "output_type": "execute_result",
          "data": {
            "text/plain": [
              "5"
            ]
          },
          "metadata": {},
          "execution_count": 4
        }
      ]
    },
    {
      "cell_type": "markdown",
      "source": [
        "Co se ovšem stane, když neposkytneme funkci jako argument matici čtvercovou? Zkusme si to."
      ],
      "metadata": {
        "id": "9yN0WdgbzQMB"
      }
    },
    {
      "cell_type": "code",
      "source": [
        "determinant11(np.array([[1, 2]]))"
      ],
      "metadata": {
        "colab": {
          "base_uri": "https://localhost:8080/"
        },
        "id": "3CCu_E7_x0KT",
        "outputId": "0af6e436-832c-41df-bb9a-7e98fd469471"
      },
      "execution_count": 5,
      "outputs": [
        {
          "output_type": "execute_result",
          "data": {
            "text/plain": [
              "nan"
            ]
          },
          "metadata": {},
          "execution_count": 5
        }
      ]
    },
    {
      "cell_type": "markdown",
      "source": [
        "Nyní se podíváme na čtvercové matice řádu 2 a počítání jejich determinantu, čili na druhou definici."
      ],
      "metadata": {
        "id": "BEBtX_JlzZML"
      }
    },
    {
      "cell_type": "code",
      "source": [
        "def determinant22(matice):\n",
        "  \"\"\"Spočte determinant čtvercové matice druhého řádu\"\"\"\n",
        "  if matice.shape == (2, 2):\n",
        "    return(matice[0, 0] * matice[1, 1] - matice[0, 1] * matice[1, 0])\n",
        "  else:\n",
        "    return(np.nan)"
      ],
      "metadata": {
        "id": "gC7IRbvlyyre"
      },
      "execution_count": 6,
      "outputs": []
    },
    {
      "cell_type": "code",
      "source": [
        "determinant22(matice2)"
      ],
      "metadata": {
        "colab": {
          "base_uri": "https://localhost:8080/"
        },
        "id": "qRgfzsrXx6eA",
        "outputId": "2ed60059-d07a-45b1-eac1-5b3fdb1647b7"
      },
      "execution_count": 7,
      "outputs": [
        {
          "output_type": "execute_result",
          "data": {
            "text/plain": [
              "-7"
            ]
          },
          "metadata": {},
          "execution_count": 7
        }
      ]
    },
    {
      "cell_type": "markdown",
      "source": [
        "Zkusme si, co se ovšem stane, když zavoláme funkci *determinant22* na matici (sice) čtvercovou, ovšem prvního řádu."
      ],
      "metadata": {
        "id": "MJtLj8gNOaoi"
      }
    },
    {
      "cell_type": "code",
      "source": [
        "determinant22(matice1)"
      ],
      "metadata": {
        "colab": {
          "base_uri": "https://localhost:8080/"
        },
        "id": "gWaNZPjezToQ",
        "outputId": "6bea649c-255c-4b48-81d2-dd7569de5a21"
      },
      "execution_count": 8,
      "outputs": [
        {
          "output_type": "execute_result",
          "data": {
            "text/plain": [
              "nan"
            ]
          },
          "metadata": {},
          "execution_count": 8
        }
      ]
    },
    {
      "cell_type": "markdown",
      "source": [
        "Výsledek by nás neměl překvapit, neboť číslo je výstupem této funkce jen tehdy, když vstupní matice projde testem na \"typ 2 x 2\"."
      ],
      "metadata": {
        "id": "-IAeDCrtz8yZ"
      }
    },
    {
      "cell_type": "markdown",
      "source": [
        "Nyní přikročíme k převodu třetí definice do podoby funkce. Jedná se vlastně o *Sarrusovo pravidlo* zapsané jako funkce. Protože Python indexuje pole od nuly (což je v mnoha programovacích jazycích celkem běžné a praktické), nikoliv od jedničky, jak je to obvyklé v matematice, je třeba dávat zvýšenou pozornost na indexy v matici (tedy *np.array*)."
      ],
      "metadata": {
        "id": "XY0cGzZV0QiE"
      }
    },
    {
      "cell_type": "code",
      "source": [
        "def determinant33(matice):\n",
        "  \"\"\"Spočte determinant čtvercové matice třetího řádu pomocí Sarrusova pravidla\"\"\"\n",
        "  if matice.shape == (3, 3):\n",
        "    return(matice[0, 0] * matice[1, 1] * matice[2, 2] +\n",
        "           matice[0, 1] * matice[1, 2] * matice[2, 0] +\n",
        "           matice[0, 2] * matice[1, 0] * matice[2, 1] -\n",
        "           matice[0, 2] * matice[1, 1] * matice[2, 0] -\n",
        "           matice[0, 0] * matice[1, 2] * matice[2, 1] -\n",
        "           matice[0, 1] * matice[1, 0] * matice[2, 2])\n",
        "  else:\n",
        "    return(np.nan)"
      ],
      "metadata": {
        "id": "5RtAXvTuzajk"
      },
      "execution_count": 9,
      "outputs": []
    },
    {
      "cell_type": "markdown",
      "source": [
        "Funkci opět vyzkoušíme na konkrétním příkladu. Jak jste si všimli, příklady jsou tytéž jako v textu výše."
      ],
      "metadata": {
        "id": "1KJ4wUuV13Os"
      }
    },
    {
      "cell_type": "code",
      "source": [
        "determinant33(matice3)"
      ],
      "metadata": {
        "colab": {
          "base_uri": "https://localhost:8080/"
        },
        "id": "0uLJrSxxVKhY",
        "outputId": "ee036e5f-8735-4e15-b50f-f884f2ac07c3"
      },
      "execution_count": 10,
      "outputs": [
        {
          "output_type": "execute_result",
          "data": {
            "text/plain": [
              "33"
            ]
          },
          "metadata": {},
          "execution_count": 10
        }
      ]
    },
    {
      "cell_type": "markdown",
      "source": [
        "V rámci cvičení i domácí přípravy na vás čeká řada úloh na \"řemeslnou praxi\": na počítání determinantů malých čtvercových matic. ***Vyzkoušejte si jejich kontrolu pomocí těchto výše vytvořených funkcí!***"
      ],
      "metadata": {
        "id": "5ocucDQ55rbt"
      }
    },
    {
      "cell_type": "markdown",
      "source": [
        "\n",
        "## Rozvoj determinantu podle řádku – zpracování v NumPy\n",
        "\n",
        "V této sekci si zkusíme implementovat větu o rozvoji determinantu podle řádku.\n",
        "\n",
        "Nejprve si připravíme pomocnou funkci, která nám pro danou matici vrátí podmatici, která z původní matice vznikne po vynechání $i$-tého řádku a $j$-tého sloupce. Poté se pustíme do implementace funkce pro výpočet determinantu čtvercové matice vyššího než třetího řádu pomocí zmíněné věty.\n",
        "\n",
        "Funkce np.vstack vertikálně sloučí dvě pole, resp. v našem případě matice vertikálně do jedné. Funkce np.hstack udělá totéž, ale horizontálně. Princip je takový, že vezmeme z matice, která je parametrem funkce podmatice, dvě části (\"rozdělené vynechávaným řádkem\"), které pomocí np.vstack sloučíme do jedné, se kterou následně provedeme opět \"rozdělení vynechaným tentokrát sloupcem\" a analogicky pomocí np.hstack tyto dvě dílčí matice sloučíme do jedné, která bude výstupem funkce.\n",
        "\n",
        "Jen podotýkáme, že pořád musíme dávat pozor na řádkové a sloupcové indexy. Chceme-li vynechat druhý řádek, musí být příslušný řádkový index roven jedné, analogicky, když chceme vynechat třeba třetí sloupec, musí být příslušný sloupcový index roven dvěma.\n",
        "\n"
      ],
      "metadata": {
        "id": "SfgIYrotd6Wu"
      }
    },
    {
      "cell_type": "code",
      "source": [
        "def podmatice(matice, i, j):\n",
        "  \"\"\"Vrátí matici s vynechaným i-tým řádkem a j-tým sloupcem\"\"\"\n",
        "  radek = i - 1\n",
        "  sloupec = j - 1\n",
        "  vysledna_matice = np.vstack((matice[:radek, :], matice[radek+1:, :]))\n",
        "  vysledna_matice = np.hstack((vysledna_matice[:, :sloupec], vysledna_matice[:, sloupec+1:]))\n",
        "  return(vysledna_matice)"
      ],
      "metadata": {
        "id": "__qb8o24fAZi"
      },
      "execution_count": 11,
      "outputs": []
    },
    {
      "cell_type": "markdown",
      "source": [
        "Připomeňme si, jak vypadá matice4 (naše ukkázková čtvercová matice čtvrtého řádu)."
      ],
      "metadata": {
        "id": "rJnpQeb0RDx7"
      }
    },
    {
      "cell_type": "code",
      "source": [
        "matice4"
      ],
      "metadata": {
        "colab": {
          "base_uri": "https://localhost:8080/"
        },
        "id": "QqsrYHM-nw9q",
        "outputId": "1a3ae2af-cb37-447d-c5b0-6373acccf36b"
      },
      "execution_count": 12,
      "outputs": [
        {
          "output_type": "execute_result",
          "data": {
            "text/plain": [
              "array([[ 1,  4,  3,  0],\n",
              "       [ 2,  4, -1,  1],\n",
              "       [ 2,  5,  4,  1],\n",
              "       [ 2, -2,  3,  1]])"
            ]
          },
          "metadata": {},
          "execution_count": 12
        }
      ]
    },
    {
      "cell_type": "markdown",
      "source": [
        "Nyní zkusme pomocí námi vytvořené funkce v uvedené čtvercové matici vynechat druhý řádek a třetí sloupec. Volání funkce s příslušnými parametry si ukážeme v následující buňce."
      ],
      "metadata": {
        "id": "oJknm5WeRRdi"
      }
    },
    {
      "cell_type": "code",
      "source": [
        "podmatice(matice4, 2, 3)"
      ],
      "metadata": {
        "colab": {
          "base_uri": "https://localhost:8080/"
        },
        "id": "9LsDEcUWnq12",
        "outputId": "7b5b324e-248c-437a-841f-65706f914e91"
      },
      "execution_count": 13,
      "outputs": [
        {
          "output_type": "execute_result",
          "data": {
            "text/plain": [
              "array([[ 1,  4,  0],\n",
              "       [ 2,  5,  1],\n",
              "       [ 2, -2,  1]])"
            ]
          },
          "metadata": {},
          "execution_count": 13
        }
      ]
    },
    {
      "cell_type": "markdown",
      "source": [
        "Nyní již můžeme přikročit k výpočtu samotného determinantu libovolného řádu (podle věty o rozvoji determinantu).\n",
        "\n",
        "Strategie je následující: pokud je na vstupu čtvercová matice řádu 3 či menšího, voláme podle řádu příslušnou dílčí funkci (determinant11, *determinant22* nebo *determinant33*). Pokud je na vstupu čtvercová matice řádu 4 či vyššího, začneme provádět rozvoj podle řádku – napevno zvolíme pro náš výpočet v tuto chvíli první řádek (v principu ale samozřejmě můžeme volit libovolný).\n",
        "\n",
        "*Zajímavé a důležité je v případě využití rekurze (volání funkce \"ze sebe samé\"): podstatné je, že úloha na výpočet determinantu \"větší matice\" se převádí na výpočet determinantů \"menších matic\" a toto volání funkce \"ze sebe samé\" musí jednou skončit, protože nakonec dojdeme na výpočet determinantu čtvercové matice třetího řádu, kterou ale počítáme už pomocí jiné funkce.*\n",
        "\n",
        "Pojďme se tedy nyní podívat na samotný kód, který pak dále okomentujeme."
      ],
      "metadata": {
        "id": "zDZXFa8khbWV"
      }
    },
    {
      "cell_type": "code",
      "source": [
        "def determinant(matice):\n",
        "  \"\"\"Vypočítá determinant libovolné čtvercové matice pomocí rozvoje podle prvního řádku\"\"\"\n",
        "  if matice.shape == (1, 1):\n",
        "    return(determinant11(matice))\n",
        "  elif matice.shape == (2, 2):\n",
        "    return(determinant22(matice))\n",
        "  elif matice.shape == (3, 3):\n",
        "    return(determinant33(matice))\n",
        "  elif matice.shape[0] == matice.shape[1]:\n",
        "    hodnota = 0\n",
        "    for j in range(matice.shape[1]):\n",
        "      i = 0\n",
        "      radek = i + 1\n",
        "      sloupec = j + 1\n",
        "      hodnota = hodnota + ((-1)**(radek + sloupec)) * matice[i, j] * determinant(podmatice(matice, radek, sloupec))\n",
        "    return(hodnota)\n",
        "  else:\n",
        "    return(np.nan)"
      ],
      "metadata": {
        "id": "-pnFUruatfgh"
      },
      "execution_count": 14,
      "outputs": []
    },
    {
      "cell_type": "code",
      "source": [
        "determinant(matice4)"
      ],
      "metadata": {
        "colab": {
          "base_uri": "https://localhost:8080/"
        },
        "id": "Ka2sQco5z_FB",
        "outputId": "0f036764-93c2-40d6-d992-f3e25981e9bd"
      },
      "execution_count": 15,
      "outputs": [
        {
          "output_type": "execute_result",
          "data": {
            "text/plain": [
              "34"
            ]
          },
          "metadata": {},
          "execution_count": 15
        }
      ]
    },
    {
      "cell_type": "markdown",
      "source": [
        "Vstupem funkce determinant je libovolná matice. V podmínce *if / elif / ...* postupně otestujeme, jestli matice je čtvercová řádu 1, dále 2 a nakonec 3: pokud nastane tento případ, voláme dříve připravené funkce *determinant11, ..., determinant33.* Pokud je matice vyššího řádu než tři, nastává nejzajímavější situace (pokud by matice nebyla čtvercová, pak se uplatní *else* a bude vrácena hodnota *NaN*). Zmíněná nejzajímavější situace se nachází po podmínce matice.*shape[0] == matice.shape[1].* Do proměnné *hodnota* budeme postupně přidávat jednotlivé sčítance, které vycházejí ze členů se subdeterminanty podle věty o rozvoji determinantu.\n",
        "\n",
        "V této funkci provádíme výpočet determinantu podle prvního **řádku** (řádkový index *i* se proto rovná nule, číslo řádku, tj. proměnná *radek* je o jedna větší). Tento řádek budeme při konstruování příslušných podmatic vynechávat a postupně budeme procházet jednotlivé **sloupce** matice postupně také budeme jeden po druhém vynechávat. To je záležitost for-cyklu s proměnnou *j*. To, že rozvíjíme determinant podle prvního řádku je naše volba (pro jednoduchost). Obecně by bylo možné postupovat při volbě řádku (nebo i sloupce) pro rozvoj mnohem sofistikovaněji.\n"
      ],
      "metadata": {
        "id": "dm-RXyoIBCLG"
      }
    },
    {
      "cell_type": "markdown",
      "source": [
        "V *NumPy* se transponování matice provádí jednoduše. Stačí zavolat *np.transpose()* Víme, že transponováním matice se determinant nemění.\n",
        "\n",
        "Zkusme si to ilustrovat na naší matici 3. řádu *matice3*."
      ],
      "metadata": {
        "id": "R0qSJtjSvhN3"
      }
    },
    {
      "cell_type": "code",
      "source": [
        "determinant(np.transpose(matice3)), determinant(matice3)"
      ],
      "metadata": {
        "id": "VneiuKWT1V6n",
        "colab": {
          "base_uri": "https://localhost:8080/"
        },
        "outputId": "11eafe80-c57b-4f60-b30d-204e0a3b470c"
      },
      "execution_count": 16,
      "outputs": [
        {
          "output_type": "execute_result",
          "data": {
            "text/plain": [
              "(33, 33)"
            ]
          },
          "metadata": {},
          "execution_count": 16
        }
      ]
    },
    {
      "cell_type": "markdown",
      "source": [
        "Vidíme, že obě dvě hodnoty se sobě rovnají. (Tím jsme samozřejmě **ne**dokázali, že věta platí obecně, jen jsme to ověřili na konkrétním případě.)"
      ],
      "metadata": {
        "id": "LWHSDsOK1d8k"
      }
    },
    {
      "cell_type": "markdown",
      "source": [
        "*Pozn.* Výpočet determinantu čtvercové matice tak, jak jsme jej implementovali ve funkci *determinant*, není výpočetně efektivní. V případě větších matic trvá výpočet déle než při použití funkce *np.linalg.det* z *NumPy*.\n",
        "\n",
        "Jak se uvedená funkce používá si budeme ilustrovat na dalším příkladě."
      ],
      "metadata": {
        "id": "fI41MzLnIaaU"
      }
    },
    {
      "cell_type": "code",
      "source": [
        "matice8 = np.array([[2, 0, 8, 5, 0, 4, 7, -2], [1, 0, 0, 1, 1, -4, 5, -2], [-2, -4, 3, 2, 4, 0, 0, 0], [-6, 3, -8, 2, 2, 4, 5, -9], [1, 0, 0, 3, 4, 8, -1, -1], [-3, 4, 4, 5, 0, 4, 2, -2], [8, 0, -2, -5, 0, 5, 7, -2], [-4, 4, -3, 3, -1, 1, 1, 1]])"
      ],
      "metadata": {
        "id": "oCwkEGvkMk1f"
      },
      "execution_count": 17,
      "outputs": []
    },
    {
      "cell_type": "code",
      "source": [
        "determinant(matice8)"
      ],
      "metadata": {
        "id": "LOoLt4duNTx3",
        "colab": {
          "base_uri": "https://localhost:8080/"
        },
        "outputId": "0770ce60-5b92-486e-876a-62f8c10e6710"
      },
      "execution_count": 18,
      "outputs": [
        {
          "output_type": "execute_result",
          "data": {
            "text/plain": [
              "2728480"
            ]
          },
          "metadata": {},
          "execution_count": 18
        }
      ]
    },
    {
      "cell_type": "code",
      "source": [
        "np.linalg.det(matice8)"
      ],
      "metadata": {
        "id": "5AMHLD8UNWzh",
        "colab": {
          "base_uri": "https://localhost:8080/"
        },
        "outputId": "77606236-e612-4fa0-84f6-57d006c6533c"
      },
      "execution_count": 19,
      "outputs": [
        {
          "output_type": "execute_result",
          "data": {
            "text/plain": [
              "2728480.0000000005"
            ]
          },
          "metadata": {},
          "execution_count": 19
        }
      ]
    },
    {
      "cell_type": "markdown",
      "source": [
        "# Matice regulární a singulární, Cramerovo pravidlo\n",
        "\n",
        "**Věta** (o determinantu regulární matice). Čtvercová matice $\\mathbf{A}$ je regulární právě tehdy, když je její determinant různý od nuly, tj. $\\mathrm{det}~\\mathbf{A}\\neq 0$.\n",
        "\n",
        "*Pozn.* Singululární matice jsou zjevně ty, které mají determinant roven nule.\n",
        "\n",
        "**Věta** (Cramerovo pravidlo). Mějme soustavu $n$ lineárních rovnic o $n$ neznámých $x_1,\\dots x_n$. Jestliže matice soustavy $\\mathbf{A}$ je regulární, pak má soustava právě jedno řešení, které se zapsat ve tvaru\n",
        "$$\n",
        "x_j = \\frac{\\mathrm{det}~\\mathbf{A}_j}{\\mathrm{det}~\\mathbf{A}}\n",
        "$$\n",
        "pro $j = 1,\\dots, n$, kde $\\mathbf{A}_j$ je matice, která vznikne z matice soustavy $\\mathbf{A}$ po náhradě $j$-tého sloupce sloupcem pravých stran soustavy."
      ],
      "metadata": {
        "id": "ME3VncNiFLDg"
      }
    },
    {
      "cell_type": "markdown",
      "source": [
        "\n",
        "\n",
        " ## Matice regulární a singulární, Cramerovo pravidlo – zpracování v NumPy\n",
        "\n",
        "Nyní si napišme funkci, která vrátí booleovskou hodnotu (ano/ne), právě když je vstupní matice regulární. Princip bude jednoduchý: vypočítáme determinant příslušné matice a prostě ověříme, zda je či není nulový.\n"
      ],
      "metadata": {
        "id": "ERxu0Eqnvrff"
      }
    },
    {
      "cell_type": "code",
      "source": [
        "def regularni(matice):\n",
        "  \"\"\"Vrátí booleovskou hodnotu TRUE právě když vstupní matice je regulární\"\"\"\n",
        "  return((matice.shape[0]==matice.shape[1]) & (determinant(matice) != 0))"
      ],
      "metadata": {
        "id": "yJ8uAR7GzsJy"
      },
      "execution_count": 20,
      "outputs": []
    },
    {
      "cell_type": "markdown",
      "source": [
        "Zkusme si to na jednoducchém příkladu: zavolejme funkci *regularni* na čtvercovou matici, která bude mít alespoň dva řádky shodné a pak zavolejme tuto funkci na naši matici *matice3*."
      ],
      "metadata": {
        "id": "JDdwXr8A71yA"
      }
    },
    {
      "cell_type": "code",
      "source": [
        "regularni(np.array([[1, 3], [1, 3]])), regularni(matice3)"
      ],
      "metadata": {
        "colab": {
          "base_uri": "https://localhost:8080/"
        },
        "id": "WNYDJ0qB7ihi",
        "outputId": "4e2623dc-56f9-42d3-9dd0-7ebf195d85dd"
      },
      "execution_count": 21,
      "outputs": [
        {
          "output_type": "execute_result",
          "data": {
            "text/plain": [
              "(False, True)"
            ]
          },
          "metadata": {},
          "execution_count": 21
        }
      ]
    },
    {
      "cell_type": "markdown",
      "source": [
        "Uvedená funkce je jednoduchá, přesto si však zaslouží komentář. Regulární matice musí být předně čtvercová, musíme tedy zkontrolovat nejprve rovnost počtu řádků a počtu sloupců. Podle příslušné věty víme, že čtvercová matice je regulární právě tehdy, když její determinant je nenulový. Ve funkci proto musíme kontrolovat obě tyto podmínky. Funkce vrací *False*, když alespoň jedna z podmínek není splněna: tj. pokud není čtvercová nebo pokud je její determinant nulový. Všiměte si, že nemusíme používat podmínku *if*, ale funkce může vrátit rovnou booleovský výsledek."
      ],
      "metadata": {
        "id": "Yofit78oQmVV"
      }
    },
    {
      "cell_type": "markdown",
      "source": [
        "### Cramerovo pravidlo v NumPy\n",
        "\n",
        "Idea implementace Cramerova pravidla bude poměrně přímočará.\n",
        "\n",
        "Budeme předpokládat, že soustavu máme zadanou v podobě rozšířené matice soustavy a máme dáno, že chceme spočítat $j$-tou neznámou.\n",
        "\n",
        "Nejprve si vytvoříme pomocnou funkci, která z rozšířené matice soustavy ve tvaru $\\mathbf{A}|b$ vytvoří matici $\\mathbf{A}_j$, jinými slovy, v rozšířené matici soustavy zaměníme $j$-tý sloupec sloupcem posledním, který následně \"zampomeneme\".\n",
        "\n",
        "Samotné Cramerovo pravidlo pak implementujeme jednoduše. Funkce bude mít dva parametry: rozšířenou matici soustavy a index *j*, který bude určovat, kterou neznámou budeme počítat. Nezapomeneme také zkontrolovat, zda matice soustavy je regulární."
      ],
      "metadata": {
        "id": "5MDC5igzr48p"
      }
    },
    {
      "cell_type": "code",
      "source": [
        "def nahrad_sloupec(matice, sloupec):\n",
        "  \"\"\"Nahradí v matici j-tý sloupec sloupcem posledním, který následně vynechá.\"\"\"\n",
        "  nova_matice = matice.copy()\n",
        "  j = sloupec - 1\n",
        "  posledni_sloupec = nova_matice.shape[1] - 1\n",
        "  nova_matice[:, j] = nova_matice[:, posledni_sloupec]\n",
        "  return nova_matice[:,:-1]"
      ],
      "metadata": {
        "id": "emOjtLWB2oxf"
      },
      "execution_count": 22,
      "outputs": []
    },
    {
      "cell_type": "markdown",
      "source": [
        "Vyykoušejme si to třeba na naší matici *matice3*: kde nahradíme její druhý sloupec sloupcem posledním a ten následně vynecháme."
      ],
      "metadata": {
        "id": "CWzQgJTd3mEJ"
      }
    },
    {
      "cell_type": "code",
      "source": [
        "nahrad_sloupec(matice3, 2)"
      ],
      "metadata": {
        "colab": {
          "base_uri": "https://localhost:8080/"
        },
        "id": "AGTFl8HM4A3S",
        "outputId": "408b73d6-bc7c-4ae3-d4b0-17fee278d464"
      },
      "execution_count": 23,
      "outputs": [
        {
          "output_type": "execute_result",
          "data": {
            "text/plain": [
              "array([[ 1,  2],\n",
              "       [-1,  4],\n",
              "       [ 2,  1]])"
            ]
          },
          "metadata": {},
          "execution_count": 23
        }
      ]
    },
    {
      "cell_type": "markdown",
      "source": [
        "Nyní už přikročíme k naší kýžené funkci *cramer*."
      ],
      "metadata": {
        "id": "RKcppgVG4Ili"
      }
    },
    {
      "cell_type": "code",
      "source": [
        "def cramer(rozsirena_matice, neznama):\n",
        "  \"\"\"Vyřeší soustavu rovnic vzhledem k neznámé Cramerovým pravidlem.\"\"\"\n",
        "  if (rozsirena_matice.shape[0] == rozsirena_matice.shape[1] - 1) & (determinant(rozsirena_matice[:, :-1]) != 0) & (neznama < rozsirena_matice.shape[1]):\n",
        "    return(determinant(nahrad_sloupec(rozsirena_matice, neznama))/determinant(rozsirena_matice[:,:-1]))\n",
        "  else:\n",
        "    return(np.nan)"
      ],
      "metadata": {
        "id": "kdfyNXg94XD6"
      },
      "execution_count": 24,
      "outputs": []
    },
    {
      "cell_type": "markdown",
      "source": [
        "**Úloha.** Pomocí Cramerova pravidla vyřešte následující soustavu lineárních rovnic o třech neznámých.\n",
        "$$\n",
        "\\begin{array}{r r r r r r}\n",
        "3x_1 & - & 2x_2 & + & x_3  &= 1, \\\\\n",
        "2x_1 &   &     & - & x_3  &= 2, \\\\\n",
        "x_1  & - & 3x_2 & + & 3x_3 &= 0.\n",
        "\\end{array}\n",
        "$$"
      ],
      "metadata": {
        "id": "EsGtws6Va8D4"
      }
    },
    {
      "cell_type": "markdown",
      "source": [
        "**Řešení.** Nejprve si z naší soustavy vytvoříme rozšířenou matici soustavy, kterou následně použijeme jako první z argumentů naší funkce *cramer* (druhým parametrem pak bude číslo 3, jelikož nás zajímá hodnota neznámé $x_3$)."
      ],
      "metadata": {
        "id": "5LjDs0vIh9lO"
      }
    },
    {
      "cell_type": "code",
      "source": [
        "rms = np.array([[3, -2, 1, 1], [2, 0, -1, 2], [1, -3, 3, 0]])"
      ],
      "metadata": {
        "id": "8oPU175e5-hI"
      },
      "execution_count": 25,
      "outputs": []
    },
    {
      "cell_type": "code",
      "source": [
        "cramer(rms, 1), cramer(rms, 2), cramer(rms, 3)"
      ],
      "metadata": {
        "colab": {
          "base_uri": "https://localhost:8080/"
        },
        "id": "YX_4g7hi8XOY",
        "outputId": "2b3206e8-1c3a-4068-efff-f8913a202626"
      },
      "execution_count": 27,
      "outputs": [
        {
          "output_type": "execute_result",
          "data": {
            "text/plain": [
              "(-3.0, -9.0, -8.0)"
            ]
          },
          "metadata": {},
          "execution_count": 27
        }
      ]
    },
    {
      "cell_type": "markdown",
      "source": [
        "# Náměty na cvičení\n",
        "\n",
        "1. Napište (booleovskou) funkci, určí, zda je zadaná matice ve trojútelníkovém tvaru.\n",
        "2. Napiště (booleovskou) funkci, která zda je zadaná matice ve stupňovitém (schodovitém) tvaru.\n",
        "3. Napište funkci, která pro danou matici vrátí jednorozměrné pole, které obsahuje posloupnost všech prvků na hlavní diagonále dané matice.\n",
        "4. Užitím dříve implementovaných funkcí připravte implementujte efektivní výpočet determinantu trojúhelníkové matice pomocí příslušné věty.\n",
        "5. Mějme zadanou soustavu o 6 řádcích a 7 sloupcích v podobě CSV soubou, kterou budeme interpretovat jako rozšířenou matici soustavy, tj. poslední sloupec načtené tabulky tedy bude sloupcem pravých stran. Vyřešte za pomoci dříve definované funkce *cramer* tuto soustavu. Tabulku načítejte prostřednictvím *Pandas*.\n",
        "\n"
      ],
      "metadata": {
        "id": "FSA2-QSdx2Y6"
      }
    }
  ]
}